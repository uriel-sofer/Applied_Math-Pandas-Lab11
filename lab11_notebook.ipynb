{
 "cells": [
  {
   "metadata": {},
   "cell_type": "markdown",
   "source": "1. import pandas",
   "id": "5c4b481a3a0e17e2"
  },
  {
   "metadata": {
    "ExecuteTime": {
     "end_time": "2025-02-02T12:12:05.786218Z",
     "start_time": "2025-02-02T12:12:05.516012Z"
    }
   },
   "cell_type": "code",
   "source": "import pandas as pd",
   "id": "da0843519ccdaa6c",
   "outputs": [],
   "execution_count": 4
  },
  {
   "metadata": {},
   "cell_type": "markdown",
   "source": "2. Load .csv file:",
   "id": "f4a3a57e3ffc9286"
  },
  {
   "metadata": {
    "ExecuteTime": {
     "end_time": "2025-02-02T12:12:05.796342Z",
     "start_time": "2025-02-02T12:12:05.789865Z"
    }
   },
   "cell_type": "code",
   "source": "df = pd.read_csv(\"data_full.csv\")",
   "id": "9e6997553a1cae7",
   "outputs": [],
   "execution_count": 5
  },
  {
   "metadata": {},
   "cell_type": "markdown",
   "source": "3. sum of measurement of rain in the year 2000, divided by number of days in the year <br>",
   "id": "e1040eeb467c994"
  },
  {
   "metadata": {
    "ExecuteTime": {
     "end_time": "2025-02-02T12:12:05.810421Z",
     "start_time": "2025-02-02T12:12:05.805641Z"
    }
   },
   "cell_type": "code",
   "source": [
    "#2000 avg\n",
    "df.loc[df[\"Year\"] == 2000, \"Measurement\"].sum() / 365"
   ],
   "id": "fc9477c151866c8c",
   "outputs": [
    {
     "data": {
      "text/plain": [
       "np.float64(1.600821917808219)"
      ]
     },
     "execution_count": 6,
     "metadata": {},
     "output_type": "execute_result"
    }
   ],
   "execution_count": 6
  },
  {
   "metadata": {},
   "cell_type": "markdown",
   "source": "4. amount of rain in the median day of the year 2000 <br>",
   "id": "47af94095aa22249"
  },
  {
   "metadata": {
    "ExecuteTime": {
     "end_time": "2025-02-02T12:12:05.825414Z",
     "start_time": "2025-02-02T12:12:05.820731Z"
    }
   },
   "cell_type": "code",
   "source": "df.loc[df[\"Year\"] == 2000, \"Measurement\"].median()",
   "id": "eef99effb4e7d36e",
   "outputs": [
    {
     "data": {
      "text/plain": [
       "np.float64(3.0)"
      ]
     },
     "execution_count": 7,
     "metadata": {},
     "output_type": "execute_result"
    }
   ],
   "execution_count": 7
  },
  {
   "metadata": {},
   "cell_type": "markdown",
   "source": "5. Which month had the most rain on average? <br>",
   "id": "35df77ad5c088803"
  },
  {
   "metadata": {
    "ExecuteTime": {
     "end_time": "2025-02-02T12:12:05.846683Z",
     "start_time": "2025-02-02T12:12:05.840196Z"
    }
   },
   "cell_type": "code",
   "source": "df.groupby(\"Month\")[\"Measurement\"].mean().idxmax()",
   "id": "561adec9ea62ff49",
   "outputs": [
    {
     "data": {
      "text/plain": [
       "np.int64(1)"
      ]
     },
     "execution_count": 8,
     "metadata": {},
     "output_type": "execute_result"
    }
   ],
   "execution_count": 8
  },
  {
   "metadata": {},
   "cell_type": "markdown",
   "source": "6. Which month had the most rainy days?",
   "id": "8712df137894ae2f"
  },
  {
   "metadata": {
    "ExecuteTime": {
     "end_time": "2025-02-02T12:12:05.861176Z",
     "start_time": "2025-02-02T12:12:05.857851Z"
    }
   },
   "cell_type": "code",
   "source": "df.groupby(\"Month\")[\"DoY\"].count().idxmax()",
   "id": "f1522665e17a68cd",
   "outputs": [
    {
     "data": {
      "text/plain": [
       "np.int64(1)"
      ]
     },
     "execution_count": 9,
     "metadata": {},
     "output_type": "execute_result"
    }
   ],
   "execution_count": 9
  },
  {
   "metadata": {},
   "cell_type": "markdown",
   "source": [
    "7. Which day in the year did it rain the most times?\n",
    "Explanation: Sum the measurement by its DoY, and get the max"
   ],
   "id": "8a0c8999520ced1e"
  },
  {
   "metadata": {
    "ExecuteTime": {
     "end_time": "2025-02-02T12:12:05.879852Z",
     "start_time": "2025-02-02T12:12:05.876361Z"
    }
   },
   "cell_type": "code",
   "source": "df.groupby(\"DoY\")[\"Measurement\"].sum().idxmax()",
   "id": "d114b7096893f19",
   "outputs": [
    {
     "data": {
      "text/plain": [
       "np.int64(18)"
      ]
     },
     "execution_count": 10,
     "metadata": {},
     "output_type": "execute_result"
    }
   ],
   "execution_count": 10
  },
  {
   "metadata": {},
   "cell_type": "markdown",
   "source": [
    "8. What is the median measurement for this day?\n",
    "Explanation:\n",
    "Get me the median measurement of the DoY, where: it is the max measurement (like previous statement)"
   ],
   "id": "54cc4e408d728a13"
  },
  {
   "metadata": {
    "ExecuteTime": {
     "end_time": "2025-02-02T12:12:05.897468Z",
     "start_time": "2025-02-02T12:12:05.893701Z"
    }
   },
   "cell_type": "code",
   "source": "df.loc[df[\"DoY\"] == df.groupby(\"DoY\")[\"Measurement\"].sum().idxmax(), \"Measurement\"].median()",
   "id": "e961f30a7c6db16b",
   "outputs": [
    {
     "data": {
      "text/plain": [
       "np.float64(10.850000000000001)"
      ]
     },
     "execution_count": 11,
     "metadata": {},
     "output_type": "execute_result"
    }
   ],
   "execution_count": 11
  },
  {
   "metadata": {},
   "cell_type": "markdown",
   "source": "9. How much rain per day is the most?",
   "id": "cf9e07061cc3d821"
  },
  {
   "metadata": {
    "ExecuteTime": {
     "end_time": "2025-02-02T12:12:05.916275Z",
     "start_time": "2025-02-02T12:12:05.910996Z"
    }
   },
   "cell_type": "code",
   "source": "df.loc[df[\"Measurement\"].idxmax(), [\"Measurement\"]]",
   "id": "c374ad1427421396",
   "outputs": [
    {
     "data": {
      "text/plain": [
       "Measurement    88.6\n",
       "Name: 2350, dtype: object"
      ]
     },
     "execution_count": 12,
     "metadata": {},
     "output_type": "execute_result"
    }
   ],
   "execution_count": 12
  },
  {
   "metadata": {},
   "cell_type": "markdown",
   "source": "10. Which year was it?",
   "id": "e643fcae6559d945"
  },
  {
   "metadata": {
    "ExecuteTime": {
     "end_time": "2025-02-02T12:12:05.953704Z",
     "start_time": "2025-02-02T12:12:05.949561Z"
    }
   },
   "cell_type": "code",
   "source": "df.loc[df[\"Measurement\"].idxmax(), [\"Year\"]]",
   "id": "d686b77537e2e26c",
   "outputs": [
    {
     "data": {
      "text/plain": [
       "Year    1983\n",
       "Name: 2350, dtype: object"
      ]
     },
     "execution_count": 13,
     "metadata": {},
     "output_type": "execute_result"
    }
   ],
   "execution_count": 13
  },
  {
   "metadata": {},
   "cell_type": "markdown",
   "source": [
    "11. In how many years there was less rain the year before that?\n",
    "This one was tough. Group by year and sum to get yearly amount. Then diff to get the differences. The hard part: I used lambda function to get only the neg values, loc() didn't work, so I needed a different solution. Then I just counted it.\n",
    "Edit: Found out how to enable it with loc! Just needed to group them again the same way."
   ],
   "id": "7aae611e8fb852ee"
  },
  {
   "metadata": {
    "ExecuteTime": {
     "end_time": "2025-02-02T12:12:06.009664Z",
     "start_time": "2025-02-02T12:12:06.004360Z"
    }
   },
   "cell_type": "code",
   "source": [
    "df.groupby(\"Year\")[\"Measurement\"].sum().diff().loc[lambda x: x < 0].count()\n",
    "df.groupby(\"Year\")[\"Measurement\"].sum().diff().loc[df.groupby(\"Year\")[\"Measurement\"].sum().diff() < 0]"
   ],
   "id": "f29f55db4c98897f",
   "outputs": [
    {
     "data": {
      "text/plain": [
       "Year\n",
       "1952    -62.2\n",
       "1954   -111.7\n",
       "1955    -74.2\n",
       "1956    -98.5\n",
       "1958    -78.5\n",
       "1960    -39.0\n",
       "1962   -117.2\n",
       "1965   -249.6\n",
       "1969    -76.6\n",
       "1970   -357.5\n",
       "1971   -141.8\n",
       "1975   -165.0\n",
       "1978   -120.1\n",
       "1979    -83.6\n",
       "1981    -17.0\n",
       "1982    -66.2\n",
       "1985   -248.3\n",
       "1987    -18.3\n",
       "1988    -53.3\n",
       "1989   -214.5\n",
       "1990    -14.5\n",
       "1993   -438.4\n",
       "1995   -296.7\n",
       "1998   -275.5\n",
       "1999   -204.7\n",
       "2001   -192.9\n",
       "2004   -167.6\n",
       "2005    -71.0\n",
       "2006    -45.2\n",
       "2007    -26.2\n",
       "2008    -91.7\n",
       "2010   -243.2\n",
       "2013   -308.4\n",
       "2014    -98.5\n",
       "2016    -91.4\n",
       "2017   -262.8\n",
       "2020   -116.2\n",
       "2021   -214.9\n",
       "2022     -0.8\n",
       "Name: Measurement, dtype: float64"
      ]
     },
     "execution_count": 14,
     "metadata": {},
     "output_type": "execute_result"
    }
   ],
   "execution_count": 14
  },
  {
   "metadata": {},
   "cell_type": "markdown",
   "source": "12. The same as before but with DoY",
   "id": "af8f1b32b9754a8b"
  },
  {
   "metadata": {
    "ExecuteTime": {
     "end_time": "2025-02-02T12:12:06.066241Z",
     "start_time": "2025-02-02T12:12:06.060725Z"
    }
   },
   "cell_type": "code",
   "source": "df.groupby(\"Year\")[\"DoY\"].sum().diff().loc[df.groupby(\"Year\")[\"DoY\"].sum().diff() < 0].count()",
   "id": "92ff998d61a1446f",
   "outputs": [
    {
     "data": {
      "text/plain": [
       "np.int64(33)"
      ]
     },
     "execution_count": 15,
     "metadata": {},
     "output_type": "execute_result"
    }
   ],
   "execution_count": 15
  }
 ],
 "metadata": {
  "kernelspec": {
   "display_name": "Python 3",
   "language": "python",
   "name": "python3"
  },
  "language_info": {
   "codemirror_mode": {
    "name": "ipython",
    "version": 2
   },
   "file_extension": ".py",
   "mimetype": "text/x-python",
   "name": "python",
   "nbconvert_exporter": "python",
   "pygments_lexer": "ipython2",
   "version": "2.7.6"
  }
 },
 "nbformat": 4,
 "nbformat_minor": 5
}
